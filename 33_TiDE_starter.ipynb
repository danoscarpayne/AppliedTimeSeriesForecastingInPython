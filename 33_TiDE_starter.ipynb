{
 "cells": [
  {
   "cell_type": "code",
   "execution_count": null,
   "id": "83af86dd-537e-4188-99bc-091182c88a5b",
   "metadata": {},
   "outputs": [],
   "source": [
    "import pandas as pd\n",
    "import numpy as np\n",
    "import matplotlib.pyplot as plt\n",
    "\n",
    "from darts import TimeSeries\n",
    "from darts.datasets import ETTh1Dataset"
   ]
  },
  {
   "cell_type": "code",
   "execution_count": null,
   "id": "7e611244-03ad-493d-8a75-2c95aa5eb38a",
   "metadata": {},
   "outputs": [],
   "source": [
    "series = ETTh1Dataset().load()"
   ]
  },
  {
   "cell_type": "code",
   "execution_count": null,
   "id": "463e42a3-664c-4797-b61a-c84be874003c",
   "metadata": {},
   "outputs": [],
   "source": [
    "# Display dataframe\n",
    "\n"
   ]
  },
  {
   "cell_type": "code",
   "execution_count": null,
   "id": "dfc6c5d6-f765-4691-b708-4fed08469455",
   "metadata": {},
   "outputs": [],
   "source": [
    "fig, ax = plt.subplots(figsize=(9,6))\n",
    "\n",
    "ax.plot(series_df['OT'])\n",
    "ax.set_xlabel('Date')\n",
    "ax.set_ylabel('Oil temperature')\n",
    "\n",
    "fig.autofmt_xdate()\n",
    "plt.tight_layout()"
   ]
  },
  {
   "cell_type": "markdown",
   "id": "3b584109-31a0-4bba-8672-bd854e79aedc",
   "metadata": {},
   "source": [
    "## Train/test split\n",
    "Keep the last 96 time steps for the test set"
   ]
  },
  {
   "cell_type": "code",
   "execution_count": null,
   "id": "2c7e5734-d111-423a-aee0-7894aa9a1909",
   "metadata": {},
   "outputs": [],
   "source": []
  },
  {
   "cell_type": "markdown",
   "id": "712cf65c-be6e-4487-a906-b4e64ae0c393",
   "metadata": {},
   "source": [
    "## Model training"
   ]
  },
  {
   "cell_type": "code",
   "execution_count": null,
   "id": "562af0c7-e889-415c-b128-a5e1cf18de71",
   "metadata": {},
   "outputs": [],
   "source": [
    "# Train model\n"
   ]
  },
  {
   "cell_type": "code",
   "execution_count": null,
   "id": "aad108d0-9b4d-4c81-9cf4-302cf298e79c",
   "metadata": {},
   "outputs": [],
   "source": [
    "# Inverse transform the predictions\n"
   ]
  },
  {
   "cell_type": "code",
   "execution_count": null,
   "id": "c5d1deb4-3a1b-4436-a88a-27504d636d47",
   "metadata": {},
   "outputs": [],
   "source": [
    "# Show prediction dataframe\n"
   ]
  },
  {
   "cell_type": "code",
   "execution_count": null,
   "id": "8d360e01-6f90-414b-a31d-d6b674da1034",
   "metadata": {},
   "outputs": [],
   "source": [
    "cols_to_plot = ['OT', 'HULL', 'MUFL', 'MULL']\n",
    "\n",
    "fig, axes = plt.subplots(nrows=2, ncols=2, figsize=(12,8))\n",
    "\n",
    "for i, ax in enumerate(axes.flatten()):\n",
    "    col = cols_to_plot[i]\n",
    "        \n",
    "    ax.plot(test_df[col], label='Actual', ls='-', color='blue')\n",
    "    ax.plot(preds_df[col], label='TiDE', ls='--', color='green')\n",
    "    \n",
    "    ax.legend(loc='best')\n",
    "    ax.set_xlabel('Date')\n",
    "    ax.set_title(col)\n",
    "    \n",
    "plt.tight_layout()\n",
    "fig.autofmt_xdate()"
   ]
  },
  {
   "cell_type": "markdown",
   "id": "82a61f91-9727-43d1-80a2-d91cfb2326b6",
   "metadata": {},
   "source": [
    "## Evaluation"
   ]
  },
  {
   "cell_type": "code",
   "execution_count": null,
   "id": "5dcb4755-a11c-4323-8326-ba4214998b85",
   "metadata": {},
   "outputs": [],
   "source": [
    "from darts.metrics import mae, mse\n",
    "\n",
    "tide_mae = mae(test, pred_tide)\n",
    "tide_mse = mse(test, pred_tide)\n",
    "\n",
    "print(tide_mae, tide_mse)"
   ]
  },
  {
   "cell_type": "code",
   "execution_count": null,
   "id": "49b467ed-2c28-4610-9ce5-fe70b3632ed9",
   "metadata": {},
   "outputs": [],
   "source": []
  }
 ],
 "metadata": {
  "kernelspec": {
   "display_name": "Python 3",
   "language": "python",
   "name": "python3"
  },
  "language_info": {
   "codemirror_mode": {
    "name": "ipython",
    "version": 3
   },
   "file_extension": ".py",
   "mimetype": "text/x-python",
   "name": "python",
   "nbconvert_exporter": "python",
   "pygments_lexer": "ipython3",
   "version": "3.10.13"
  }
 },
 "nbformat": 4,
 "nbformat_minor": 5
}
